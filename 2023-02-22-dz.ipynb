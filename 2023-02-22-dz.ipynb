{
 "cells": [
  {
   "cell_type": "markdown",
   "id": "2946bb57",
   "metadata": {},
   "source": [
    "### Проверка на лесенку"
   ]
  },
  {
   "cell_type": "code",
   "execution_count": null,
   "id": "9ee6c90f",
   "metadata": {},
   "outputs": [],
   "source": [
    "1. Проити по циклу пока s[i]<s[j]\n",
    "2. Записать i, при котором s[i]>s[j]\n",
    "3. Проверить, что для оставшихся выполняется условие"
   ]
  },
  {
   "cell_type": "code",
   "execution_count": 18,
   "id": "81dbb115",
   "metadata": {},
   "outputs": [],
   "source": [
    "def check_staircase(lst):\n",
    "    i = len(lst)-1\n",
    "    while lst[i]<lst[i-1]:\n",
    "        i -= 1\n",
    "        \n",
    "    j = 0\n",
    "    while i != j:\n",
    "        if lst[i]>lst[j]:\n",
    "            j+=1\n",
    "        else:\n",
    "            return False\n",
    "    return True"
   ]
  },
  {
   "cell_type": "code",
   "execution_count": 19,
   "id": "8486d918",
   "metadata": {},
   "outputs": [
    {
     "data": {
      "text/plain": [
       "True"
      ]
     },
     "execution_count": 19,
     "metadata": {},
     "output_type": "execute_result"
    }
   ],
   "source": [
    "check_staircase([1, 2, 3, 2, 1])"
   ]
  },
  {
   "cell_type": "markdown",
   "id": "d0473372",
   "metadata": {},
   "source": [
    "### Построение лесенки"
   ]
  },
  {
   "cell_type": "code",
   "execution_count": 42,
   "id": "3afb0dc1",
   "metadata": {},
   "outputs": [],
   "source": [
    "input_lst = [1, 1, 2, 2, 3, 3]"
   ]
  },
  {
   "cell_type": "code",
   "execution_count": null,
   "id": "93851a91",
   "metadata": {},
   "outputs": [],
   "source": [
    "1. Найти максимум, он может быть 1\n",
    "2. Создать словарь с количеством вхождений (больше 2 не может быть)\n",
    "3. "
   ]
  },
  {
   "cell_type": "code",
   "execution_count": 13,
   "id": "85981b37",
   "metadata": {},
   "outputs": [
    {
     "name": "stdout",
     "output_type": "stream",
     "text": [
      "1\n",
      "1\n",
      "2\n",
      "2\n",
      "3\n",
      "3\n"
     ]
    }
   ],
   "source": [
    "max_num = 0\n",
    "for i in input_lst:\n",
    "    print (i)\n",
    "    if i > max_num:\n",
    "        max_num = i"
   ]
  },
  {
   "cell_type": "code",
   "execution_count": 53,
   "id": "dc118e58",
   "metadata": {},
   "outputs": [
    {
     "data": {
      "text/plain": [
       "3"
      ]
     },
     "execution_count": 53,
     "metadata": {},
     "output_type": "execute_result"
    }
   ],
   "source": [
    "max_num"
   ]
  },
  {
   "cell_type": "code",
   "execution_count": 65,
   "id": "a7735943",
   "metadata": {},
   "outputs": [],
   "source": [
    "dic = {}\n",
    "\n",
    "for i in input_lst:\n",
    "    if i not in dic:\n",
    "        dic[i] = 1\n",
    "    else:\n",
    "        dic[i] += 1\n",
    "        \n",
    "dic[max_num] = 1"
   ]
  },
  {
   "cell_type": "code",
   "execution_count": 66,
   "id": "eaf54142",
   "metadata": {},
   "outputs": [
    {
     "data": {
      "text/plain": [
       "{1: 2, 2: 2, 3: 1}"
      ]
     },
     "execution_count": 66,
     "metadata": {},
     "output_type": "execute_result"
    }
   ],
   "source": [
    "dic"
   ]
  },
  {
   "cell_type": "code",
   "execution_count": 67,
   "id": "dcca45a1",
   "metadata": {},
   "outputs": [],
   "source": [
    "output = []"
   ]
  },
  {
   "cell_type": "code",
   "execution_count": 68,
   "id": "d500c4b3",
   "metadata": {},
   "outputs": [],
   "source": [
    "if dic[max_num] == 0:\n",
    "    lst1 = list(dic.keys())[::-1]\n",
    "else:\n",
    "    lst1 = list(dic.keys())\n",
    "for i in lst1:\n",
    "    if i <= max_num:\n",
    "        if dic[i] > 0:\n",
    "            output.append(i)\n",
    "            dic[i] -= 1\n",
    "# for i in list(dic.keys()):\n",
    "#     if i <= max_num:\n",
    "#         if dic[i] > 0:\n",
    "#             output.append(i)\n",
    "#             dic[i] -= 1"
   ]
  },
  {
   "cell_type": "code",
   "execution_count": 69,
   "id": "2832c530",
   "metadata": {},
   "outputs": [
    {
     "data": {
      "text/plain": [
       "[3, 2, 1]"
      ]
     },
     "execution_count": 69,
     "metadata": {},
     "output_type": "execute_result"
    }
   ],
   "source": [
    "list(dic.keys())[::-1]"
   ]
  },
  {
   "cell_type": "code",
   "execution_count": 70,
   "id": "f74c2e28",
   "metadata": {},
   "outputs": [
    {
     "data": {
      "text/plain": [
       "[1, 2, 3]"
      ]
     },
     "execution_count": 70,
     "metadata": {},
     "output_type": "execute_result"
    }
   ],
   "source": [
    "output"
   ]
  }
 ],
 "metadata": {
  "kernelspec": {
   "display_name": "Python 3 (ipykernel)",
   "language": "python",
   "name": "python3"
  },
  "language_info": {
   "codemirror_mode": {
    "name": "ipython",
    "version": 3
   },
   "file_extension": ".py",
   "mimetype": "text/x-python",
   "name": "python",
   "nbconvert_exporter": "python",
   "pygments_lexer": "ipython3",
   "version": "3.9.7"
  }
 },
 "nbformat": 4,
 "nbformat_minor": 5
}
