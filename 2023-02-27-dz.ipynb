{
 "cells": [
  {
   "cell_type": "code",
   "execution_count": null,
   "id": "15b44dc7",
   "metadata": {},
   "outputs": [],
   "source": [
    "#https://algoprog.ru/material/p1629\n",
    "\n",
    "\n",
    "# первым символом является либо ; (точка с запятой) либо : (двоеточие) ровно один раз\n",
    "# далее может идти символ - (минус) сколько угодно раз (в том числе символ минус может идти ноль раз)\n",
    "# в конце обязательно идет некоторое количество (не меньше одной) одинаковых скобок из следующего набора: (, ), [, ].\n",
    "# внутри смайлика не может встречаться никаких других символов."
   ]
  },
  {
   "cell_type": "code",
   "execution_count": null,
   "id": "ee19d77b",
   "metadata": {},
   "outputs": [],
   "source": [
    "##Regular expressions"
   ]
  },
  {
   "cell_type": "code",
   "execution_count": 1,
   "id": "d8d3f840",
   "metadata": {},
   "outputs": [],
   "source": [
    "import re "
   ]
  },
  {
   "cell_type": "code",
   "execution_count": 52,
   "id": "eba98384",
   "metadata": {},
   "outputs": [],
   "source": [
    "s = ':-);------))'"
   ]
  },
  {
   "cell_type": "code",
   "execution_count": 53,
   "id": "89d92faf",
   "metadata": {},
   "outputs": [],
   "source": [
    "match = re.findall(r'[;:]-*[\\(+|\\)+|\\[+|\\]+]', s)"
   ]
  },
  {
   "cell_type": "code",
   "execution_count": 54,
   "id": "7385873d",
   "metadata": {},
   "outputs": [
    {
     "data": {
      "text/plain": [
       "2"
      ]
     },
     "execution_count": 54,
     "metadata": {},
     "output_type": "execute_result"
    }
   ],
   "source": [
    "len(smile)"
   ]
  },
  {
   "cell_type": "code",
   "execution_count": 50,
   "id": "43694efe",
   "metadata": {},
   "outputs": [],
   "source": [
    "##Fair solution"
   ]
  },
  {
   "cell_type": "code",
   "execution_count": 96,
   "id": "a63aa039",
   "metadata": {},
   "outputs": [],
   "source": [
    "s = ':-]];---))'"
   ]
  },
  {
   "cell_type": "code",
   "execution_count": 13,
   "id": "5a5eacec",
   "metadata": {},
   "outputs": [],
   "source": [
    "# 1.Проверяем, что первый символ : ;\n",
    "# 2. Определяем следующий символ и проверям, что это -\n",
    "# 3. Итерируемся по строке по '-'\n",
    "# 4. Проверяем, что следующий символ после '-' - какя-то из скобок \n",
    "# 5. Итерируемся по строке по скобкам"
   ]
  },
  {
   "cell_type": "code",
   "execution_count": 9,
   "id": "699c7a6a",
   "metadata": {},
   "outputs": [],
   "source": [
    "def smile(s):\n",
    "    if len(s) > 3:  #минимальный смайлик 3 символа\n",
    "        lst = []\n",
    "        for i in range(len(s)-1):\n",
    "            st = ''\n",
    "            if (s[i] == ':') or (s[i] == ';'):\n",
    "                st += s[i]\n",
    "                j = i+1\n",
    "                while (j<len(s)-1) and (s[j] == '-'):\n",
    "                    st += s[j]\n",
    "                    j += 1 \n",
    "                if s[j] in ['[', ']','(',')']:\n",
    "                    pattern = s[j]\n",
    "                    while (j<=len(s)-1) and (s[j] == pattern):\n",
    "                        st += s[j]\n",
    "                        j += 1\n",
    "                else:\n",
    "                    st = ''\n",
    "\n",
    "                if st != '':\n",
    "                    lst.append(st)\n",
    "    else:\n",
    "        return (0, [])\n",
    "    return(len(lst), lst)"
   ]
  },
  {
   "cell_type": "code",
   "execution_count": 12,
   "id": "ecc781b5",
   "metadata": {},
   "outputs": [
    {
     "data": {
      "text/plain": [
       "(2, [':)', ';------[[[[['])"
      ]
     },
     "execution_count": 12,
     "metadata": {},
     "output_type": "execute_result"
    }
   ],
   "source": [
    "smile(':);------[[[[[]:a)')"
   ]
  }
 ],
 "metadata": {
  "kernelspec": {
   "display_name": "Python 3 (ipykernel)",
   "language": "python",
   "name": "python3"
  },
  "language_info": {
   "codemirror_mode": {
    "name": "ipython",
    "version": 3
   },
   "file_extension": ".py",
   "mimetype": "text/x-python",
   "name": "python",
   "nbconvert_exporter": "python",
   "pygments_lexer": "ipython3",
   "version": "3.9.7"
  }
 },
 "nbformat": 4,
 "nbformat_minor": 5
}
