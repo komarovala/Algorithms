{
 "cells": [
  {
   "cell_type": "code",
   "execution_count": 11,
   "id": "4d297270",
   "metadata": {},
   "outputs": [],
   "source": [
    "w_days = ['Mon', 'Tue', 'Wed','Thu', 'Friday', 'Sat', 'Sun']"
   ]
  },
  {
   "cell_type": "code",
   "execution_count": null,
   "id": "6284450c",
   "metadata": {},
   "outputs": [],
   "source": [
    "days = [i for i in range(1, 32)]"
   ]
  },
  {
   "cell_type": "code",
   "execution_count": 1,
   "id": "c1dc076f",
   "metadata": {},
   "outputs": [],
   "source": [
    "##проверяем, что год високосный\n",
    "def is_leap(year):\n",
    "    return year % 4 == 0 and (year % 100 != 0 or year % 400 == 0)"
   ]
  },
  {
   "cell_type": "code",
   "execution_count": 2,
   "id": "699bb2f6",
   "metadata": {},
   "outputs": [
    {
     "name": "stdout",
     "output_type": "stream",
     "text": [
      "2 2022\n"
     ]
    }
   ],
   "source": [
    "myDate = list(map(int, input().split()))"
   ]
  },
  {
   "cell_type": "code",
   "execution_count": 8,
   "id": "3731b488",
   "metadata": {},
   "outputs": [],
   "source": [
    "month_days = None\n",
    "if (is_leap(myDate[1]) == True and myDate[0] == 2):\n",
    "    month_days = 29\n",
    "elif (is_leap(myDate[1]) == False and myDate[0] == 2):\n",
    "    month_days = 28\n",
    "elif myDate[0] in (1, 3, 5, 7, 8 , 10, 12):\n",
    "    month_days = 31\n",
    "else:\n",
    "    month_days = 30"
   ]
  },
  {
   "cell_type": "code",
   "execution_count": 9,
   "id": "a6d0cbf1",
   "metadata": {},
   "outputs": [
    {
     "data": {
      "text/plain": [
       "28"
      ]
     },
     "execution_count": 9,
     "metadata": {},
     "output_type": "execute_result"
    }
   ],
   "source": [
    "month_days"
   ]
  },
  {
   "cell_type": "code",
   "execution_count": 13,
   "id": "a0743b90",
   "metadata": {},
   "outputs": [
    {
     "name": "stdout",
     "output_type": "stream",
     "text": [
      "Mon Tue Wed Thu Friday Sat Sun\n",
      "1  2  3  4  5  [6]\n",
      "7  8  9  10 11 12 [13]\n",
      "14 15 16 17 18 19 [20]\n",
      "21 22 23 24 25 26 [27]\n",
      "28 \n"
     ]
    }
   ],
   "source": [
    "print(*w_days, sep=' ')\n",
    "weekDays = 2\n",
    "# days = monthsDays[myDate[1]]\n",
    "for i in range(month_days):\n",
    "    if weekDays % 7 != 0:\n",
    "        print('{:<2}'.format(i + 1), end=' ')        \n",
    "    else:\n",
    "        print('[' + str(i + 1) + ']')\n",
    "    weekDays += 1\n",
    "\n",
    "# Перенос строки, если последняя неделя месяца не заканчивается на воскресенье:\n",
    "if weekDays % 7 != 1:\n",
    "    print()"
   ]
  },
  {
   "cell_type": "code",
   "execution_count": null,
   "id": "7c14beaf",
   "metadata": {},
   "outputs": [],
   "source": []
  },
  {
   "cell_type": "code",
   "execution_count": null,
   "id": "c672dff9",
   "metadata": {},
   "outputs": [],
   "source": []
  },
  {
   "cell_type": "markdown",
   "id": "a39e2cf1",
   "metadata": {},
   "source": [
    "### Разбить строку по разделителю"
   ]
  },
  {
   "cell_type": "code",
   "execution_count": 32,
   "id": "9dd787ef",
   "metadata": {},
   "outputs": [],
   "source": [
    "s = 'Hdfs Tutorial;'"
   ]
  },
  {
   "cell_type": "code",
   "execution_count": 35,
   "id": "3b3bff45",
   "metadata": {},
   "outputs": [],
   "source": [
    "def split_string(s, sep = ' '):\n",
    "    i = 0\n",
    "    words = []\n",
    "    word = ''\n",
    "    n = len(s) - 1  \n",
    "\n",
    "    if s[n] == sep:   #если последний знак - разделитель, сдвигаемся на один индекс\n",
    "        n = len(s) - 2\n",
    "\n",
    "    while i <= n:\n",
    "        if s[i] != sep:\n",
    "            word += s[i]\n",
    "            i += 1\n",
    "        else:\n",
    "            words.append(word)\n",
    "            word = ''\n",
    "            i += 1\n",
    "    words.append(word)\n",
    "    \n",
    "    return words"
   ]
  },
  {
   "cell_type": "code",
   "execution_count": 37,
   "id": "147c4e0e",
   "metadata": {},
   "outputs": [
    {
     "data": {
      "text/plain": [
       "['Hdfs Tutorial']"
      ]
     },
     "execution_count": 37,
     "metadata": {},
     "output_type": "execute_result"
    }
   ],
   "source": [
    "split_string(s, ';')"
   ]
  }
 ],
 "metadata": {
  "kernelspec": {
   "display_name": "Python 3 (ipykernel)",
   "language": "python",
   "name": "python3"
  },
  "language_info": {
   "codemirror_mode": {
    "name": "ipython",
    "version": 3
   },
   "file_extension": ".py",
   "mimetype": "text/x-python",
   "name": "python",
   "nbconvert_exporter": "python",
   "pygments_lexer": "ipython3",
   "version": "3.9.7"
  }
 },
 "nbformat": 4,
 "nbformat_minor": 5
}
