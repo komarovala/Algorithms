{
 "cells": [
  {
   "cell_type": "markdown",
   "id": "40eec611",
   "metadata": {},
   "source": [
    "### Разбить строку по разделителю"
   ]
  },
  {
   "cell_type": "code",
   "execution_count": 1,
   "id": "11567086",
   "metadata": {},
   "outputs": [],
   "source": [
    "s = 'Hdfs  Tutorial,,'"
   ]
  },
  {
   "cell_type": "code",
   "execution_count": 2,
   "id": "821e350d",
   "metadata": {},
   "outputs": [],
   "source": [
    "def split_string(s, sep = ' ,;.'):\n",
    "    i = 0\n",
    "    words = []\n",
    "    word = ''\n",
    "    n = len(s) - 1  \n",
    "\n",
    "#     if s[n] in sep:   #если последний знак - разделитель, сдвигаемся на один индекс\n",
    "#         n = len(s) - 2\n",
    "\n",
    "    while i <= n:\n",
    "        if s[i] not in sep:\n",
    "            word += s[i]\n",
    "            i += 1\n",
    "        else:\n",
    "            if word:\n",
    "                words.append(word)\n",
    "            word = ''\n",
    "            i += 1\n",
    "    if word:\n",
    "        words.append(word)\n",
    "    \n",
    "    return words"
   ]
  },
  {
   "cell_type": "code",
   "execution_count": null,
   "id": "cc5ac20d",
   "metadata": {},
   "outputs": [],
   "source": [
    "split_string(s)"
   ]
  }
 ],
 "metadata": {
  "kernelspec": {
   "display_name": "Python 3 (ipykernel)",
   "language": "python",
   "name": "python3"
  },
  "language_info": {
   "codemirror_mode": {
    "name": "ipython",
    "version": 3
   },
   "file_extension": ".py",
   "mimetype": "text/x-python",
   "name": "python",
   "nbconvert_exporter": "python",
   "pygments_lexer": "ipython3",
   "version": "3.9.7"
  }
 },
 "nbformat": 4,
 "nbformat_minor": 5
}
