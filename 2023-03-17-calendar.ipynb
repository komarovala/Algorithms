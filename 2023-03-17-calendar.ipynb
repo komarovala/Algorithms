{
 "cells": [
  {
   "cell_type": "code",
   "execution_count": 11,
   "id": "4d297270",
   "metadata": {},
   "outputs": [],
   "source": [
    "w_days = ['Mon', 'Tue', 'Wed','Thu', 'Friday', 'Sat', 'Sun']"
   ]
  },
  {
   "cell_type": "code",
   "execution_count": 12,
   "id": "6284450c",
   "metadata": {},
   "outputs": [],
   "source": [
    "days = [i for i in range(1, 32)]"
   ]
  },
  {
   "cell_type": "code",
   "execution_count": 13,
   "id": "c1dc076f",
   "metadata": {},
   "outputs": [],
   "source": [
    "##проверяем, что год високосный\n",
    "def is_leap(year):\n",
    "    return year % 4 == 0 and (year % 100 != 0 or year % 400 == 0)"
   ]
  },
  {
   "cell_type": "code",
   "execution_count": 14,
   "id": "699bb2f6",
   "metadata": {},
   "outputs": [
    {
     "name": "stdout",
     "output_type": "stream",
     "text": [
      "2 2022\n"
     ]
    }
   ],
   "source": [
    "myDate = list(map(int, input().split()))"
   ]
  },
  {
   "cell_type": "code",
   "execution_count": 15,
   "id": "3731b488",
   "metadata": {},
   "outputs": [],
   "source": [
    "month_days = None\n",
    "if (is_leap(myDate[1]) == True and myDate[0] == 2):\n",
    "    month_days = 29\n",
    "elif (is_leap(myDate[1]) == False and myDate[0] == 2):\n",
    "    month_days = 28\n",
    "elif myDate[0] in (1, 3, 5, 7, 8 , 10, 12):\n",
    "    month_days = 31\n",
    "else:\n",
    "    month_days = 30"
   ]
  },
  {
   "cell_type": "code",
   "execution_count": 16,
   "id": "a6d0cbf1",
   "metadata": {},
   "outputs": [
    {
     "data": {
      "text/plain": [
       "28"
      ]
     },
     "execution_count": 16,
     "metadata": {},
     "output_type": "execute_result"
    }
   ],
   "source": [
    "month_days"
   ]
  },
  {
   "cell_type": "code",
   "execution_count": 36,
   "id": "a0743b90",
   "metadata": {},
   "outputs": [
    {
     "name": "stdout",
     "output_type": "stream",
     "text": [
      "Mon Tue Wed Thu Friday Sat Sun\n",
      "      1  2  3  4  5  [6]\n",
      "7  8  9  10 11 12 [13]\n",
      "14 15 16 17 18 19 [20]\n",
      "21 22 23 24 25 26 [27]\n",
      "28 \n"
     ]
    }
   ],
   "source": [
    "print(*w_days, sep=' ')\n",
    "weekDays = 2\n",
    "# days = monthsDays[myDate[1]]\n",
    "\n",
    "if weekDays > 1:\n",
    "    print('   ' * (weekDays - 1), end='')\n",
    "\n",
    "if myDateFirstWeekday > 1:\n",
    "    print('   ' * (myDateFirstWeekday - 1), end='')\n",
    "\n",
    "for i in range(month_days):\n",
    "    if weekDays % 7 != 0:\n",
    "        print('{:<2}'.format(i + 1), end=' ')        \n",
    "    else:\n",
    "        print('[' + str(i + 1) + ']')\n",
    "    weekDays += 1\n",
    "\n",
    "# Перенос строки, если последняя неделя месяца не заканчивается на воскресенье:\n",
    "if weekDays % 7 != 1:\n",
    "    print()"
   ]
  },
  {
   "cell_type": "code",
   "execution_count": 13,
   "id": "0bbdd6d2",
   "metadata": {},
   "outputs": [],
   "source": [
    "def is_leap(year) -> bool:\n",
    "    return year % 4 == 0 and (year % 100 != 0 or year % 400 == 0)\n",
    "\n",
    "def get_month_days(month : int, leap : bool) -> int:\n",
    "    if month in (4, 6, 11):\n",
    "        return 30\n",
    "    elif (month == 2) and (leap == 1):\n",
    "        return 29\n",
    "    elif (month == 2) and (leap == 0):\n",
    "        return 28\n",
    "    else:\n",
    "        return 31"
   ]
  },
  {
   "cell_type": "code",
   "execution_count": 16,
   "id": "9e076d22",
   "metadata": {},
   "outputs": [
    {
     "data": {
      "text/plain": [
       "28"
      ]
     },
     "execution_count": 16,
     "metadata": {},
     "output_type": "execute_result"
    }
   ],
   "source": [
    "get_month_days(2, is_leap(2023))"
   ]
  },
  {
   "cell_type": "markdown",
   "id": "b0ed34b2",
   "metadata": {},
   "source": [
    "### Календарь"
   ]
  },
  {
   "cell_type": "code",
   "execution_count": 36,
   "id": "7c14beaf",
   "metadata": {},
   "outputs": [],
   "source": [
    "from itertools import zip_longest\n",
    "\n",
    "def is_leap(year) -> bool:\n",
    "    return year % 4 == 0 and (year % 100 != 0 or year % 400 == 0)\n",
    "\n",
    "def get_month_days(month : int, leap : bool) -> int:\n",
    "    if month in (4, 6, 11):\n",
    "        return 30\n",
    "    elif (month == 2) and (leap == 1):\n",
    "        return 29\n",
    "    elif (month == 2) and (leap == 0):\n",
    "        return 28\n",
    "    else:\n",
    "        return 31\n",
    "\n",
    "    \n",
    "#Воспользуемся алгоритмом Rata Die\n",
    "def get_first_weekday(month : int, year : int) -> int:  #результат 0 .. 6\n",
    "    D =  5 #01.01.2000 - суббота\n",
    "    weekday = (D + get_num_of_days_since_20000101(month, year)) % 7\n",
    "    \n",
    "    return weekday \n",
    "\n",
    "def get_num_of_days_since_20000101(month : int, year : int) -> int:\n",
    "    total_days = 0\n",
    "    for y in range(2000, year):\n",
    "        if is_leap(y):\n",
    "            total_days += 366\n",
    "        else:\n",
    "            total_days += 365\n",
    "    for m in range(1, month):\n",
    "        total_days += get_month_days(m, is_leap(year))\n",
    "        \n",
    "    return total_days\n",
    "\n",
    "def format_workday(day = None, sep = ' ') -> str:\n",
    "    day = day or ''\n",
    "    s = f\" {day:<2}\" + sep \n",
    "    return s\n",
    "\n",
    "def format_holiday(day = None, sep = ' ') -> str:\n",
    "    blue = \"34m\"\n",
    "    day = day or ''\n",
    "    s = f\" \\033[{blue}{day:<2}\\033[00m\" +  sep\n",
    "    return s\n",
    "\n",
    "\n",
    "def is_work_day(i):\n",
    "    return i % 7 <= 5\n",
    "\n",
    "def is_holiday(i, month):\n",
    "    \n",
    "    holidays = {1: 1,\n",
    "                2: 23,\n",
    "                3: 8, \n",
    "                5: [1, 9],\n",
    "                6: 12,\n",
    "                11: 4}\n",
    "    \n",
    "    if month in holidays:\n",
    "        if type(holidays[month]) is list:      \n",
    "            for day in holidays[month]:\n",
    "                if i == day:\n",
    "                    return True\n",
    "        if i == holidays[month]:\n",
    "                    return True\n",
    "    return False\n",
    "\n",
    "def align (s):\n",
    "    month_str = s.split('\\n')\n",
    "    month_width = len(month_str[0])\n",
    "    month_str = [f\"{i:<{month_width}}\" for i in month_str if i != '']\n",
    "    \n",
    "    return \"\\n\".join(month_str)\n",
    "\n",
    "def print_days(month_days, first_weekday, month, sep = ' '):\n",
    "    w_days = ['Mon', 'Tue', 'Wed','Thu', 'Fri', 'Sat', 'Sun']\n",
    "    s = sep.join(w_days) + '\\n'\n",
    "\n",
    "    for i in range(first_weekday + month_days):\n",
    "        if i < first_weekday:\n",
    "            day = None\n",
    "        else:\n",
    "            day = i - first_weekday + 1\n",
    "            \n",
    "        if is_holiday(day, month):\n",
    "            s += format_holiday(day, sep)\n",
    "            \n",
    "        elif is_work_day(i):\n",
    "            s += format_workday(day, sep)\n",
    "        else:\n",
    "            s += format_holiday(day, sep)\n",
    "        if i % 7 == 6:\n",
    "            s += '\\n' \n",
    "    s = align (s)\n",
    "    return s\n",
    "\n",
    "def calendar_month (month, year):\n",
    "    month_days = get_month_days(month, is_leap(year))\n",
    "    first_weekday = get_first_weekday(month, year)\n",
    "    return print_days(month_days, first_weekday, month, sep = '  ')\n",
    "\n",
    "def calendar_year(year):\n",
    "    months =[ ['Jan', 'Feb', 'Mar'], ['Apr', 'May', 'Jun'], ['Jul', 'Aug', 'Sep'], ['Oct', 'Nov', 'Dec']]\n",
    "    month_num = 1\n",
    "\n",
    "    print(f\"Year: {year:^100}\")\n",
    "    for row in months:\n",
    "        m = []\n",
    "        m_str = []\n",
    "        for i in row:\n",
    "            m.append(calendar_month (month_num, year).split('\\n'))\n",
    "            month_num += 1\n",
    "        month_width = len(m[0][0])\n",
    "        for i in row:\n",
    "            m_str.append(f\"{i:^{month_width}}\")\n",
    "        print(\"\\t\".join(m_str))\n",
    "        for i in zip_longest(*m, fillvalue=' ' * month_width):\n",
    "            print(\"\\t\".join(i))\n",
    "        print('')\n",
    "    return"
   ]
  },
  {
   "cell_type": "code",
   "execution_count": 40,
   "id": "5456ae32",
   "metadata": {},
   "outputs": [
    {
     "name": "stdout",
     "output_type": "stream",
     "text": [
      "Year:                                                 2020                                                \n",
      "               Jan               \t               Feb               \t               Mar               \n",
      "Mon  Tue  Wed  Thu  Fri  Sat  Sun\tMon  Tue  Wed  Thu  Fri  Sat  Sun\tMon  Tue  Wed  Thu  Fri  Sat  Sun\n",
      "           \u001b[34m1 \u001b[00m   2    3    4    \u001b[34m5 \u001b[00m  \t                          1    \u001b[34m2 \u001b[00m  \t                               \u001b[34m1 \u001b[00m  \n",
      " 6    7    8    9    10   11   \u001b[34m12\u001b[00m  \t 3    4    5    6    7    8    \u001b[34m9 \u001b[00m  \t 2    3    4    5    6    7    \u001b[34m8 \u001b[00m  \n",
      " 13   14   15   16   17   18   \u001b[34m19\u001b[00m  \t 10   11   12   13   14   15   \u001b[34m16\u001b[00m  \t 9    10   11   12   13   14   \u001b[34m15\u001b[00m  \n",
      " 20   21   22   23   24   25   \u001b[34m26\u001b[00m  \t 17   18   19   20   21   22   \u001b[34m23\u001b[00m  \t 16   17   18   19   20   21   \u001b[34m22\u001b[00m  \n",
      " 27   28   29   30   31          \t 24   25   26   27   28   29     \t 23   24   25   26   27   28   \u001b[34m29\u001b[00m  \n",
      "                                 \t                                 \t 30   31                         \n",
      "\n",
      "               Apr               \t               May               \t               Jun               \n",
      "Mon  Tue  Wed  Thu  Fri  Sat  Sun\tMon  Tue  Wed  Thu  Fri  Sat  Sun\tMon  Tue  Wed  Thu  Fri  Sat  Sun\n",
      "           1    2    3    4    \u001b[34m5 \u001b[00m  \t                     \u001b[34m1 \u001b[00m   2    \u001b[34m3 \u001b[00m  \t 1    2    3    4    5    6    \u001b[34m7 \u001b[00m  \n",
      " 6    7    8    9    10   11   \u001b[34m12\u001b[00m  \t 4    5    6    7    8    \u001b[34m9 \u001b[00m   \u001b[34m10\u001b[00m  \t 8    9    10   11   \u001b[34m12\u001b[00m   13   \u001b[34m14\u001b[00m  \n",
      " 13   14   15   16   17   18   \u001b[34m19\u001b[00m  \t 11   12   13   14   15   16   \u001b[34m17\u001b[00m  \t 15   16   17   18   19   20   \u001b[34m21\u001b[00m  \n",
      " 20   21   22   23   24   25   \u001b[34m26\u001b[00m  \t 18   19   20   21   22   23   \u001b[34m24\u001b[00m  \t 22   23   24   25   26   27   \u001b[34m28\u001b[00m  \n",
      " 27   28   29   30               \t 25   26   27   28   29   30   \u001b[34m31\u001b[00m  \t 29   30                         \n",
      "\n",
      "               Jul               \t               Aug               \t               Sep               \n",
      "Mon  Tue  Wed  Thu  Fri  Sat  Sun\tMon  Tue  Wed  Thu  Fri  Sat  Sun\tMon  Tue  Wed  Thu  Fri  Sat  Sun\n",
      "           1    2    3    4    \u001b[34m5 \u001b[00m  \t                          1    \u001b[34m2 \u001b[00m  \t      1    2    3    4    5    \u001b[34m6 \u001b[00m  \n",
      " 6    7    8    9    10   11   \u001b[34m12\u001b[00m  \t 3    4    5    6    7    8    \u001b[34m9 \u001b[00m  \t 7    8    9    10   11   12   \u001b[34m13\u001b[00m  \n",
      " 13   14   15   16   17   18   \u001b[34m19\u001b[00m  \t 10   11   12   13   14   15   \u001b[34m16\u001b[00m  \t 14   15   16   17   18   19   \u001b[34m20\u001b[00m  \n",
      " 20   21   22   23   24   25   \u001b[34m26\u001b[00m  \t 17   18   19   20   21   22   \u001b[34m23\u001b[00m  \t 21   22   23   24   25   26   \u001b[34m27\u001b[00m  \n",
      " 27   28   29   30   31          \t 24   25   26   27   28   29   \u001b[34m30\u001b[00m  \t 28   29   30   31               \n",
      "                                 \t 31                              \t                                 \n",
      "\n",
      "               Oct               \t               Nov               \t               Dec               \n",
      "Mon  Tue  Wed  Thu  Fri  Sat  Sun\tMon  Tue  Wed  Thu  Fri  Sat  Sun\tMon  Tue  Wed  Thu  Fri  Sat  Sun\n",
      "                     1    2    \u001b[34m3 \u001b[00m  \t 1    2    3    \u001b[34m4 \u001b[00m   5    6    \u001b[34m7 \u001b[00m  \t           1    2    3    4    \u001b[34m5 \u001b[00m  \n",
      " 4    5    6    7    8    9    \u001b[34m10\u001b[00m  \t 8    9    10   11   12   13   \u001b[34m14\u001b[00m  \t 6    7    8    9    10   11   \u001b[34m12\u001b[00m  \n",
      " 11   12   13   14   15   16   \u001b[34m17\u001b[00m  \t 15   16   17   18   19   20   \u001b[34m21\u001b[00m  \t 13   14   15   16   17   18   \u001b[34m19\u001b[00m  \n",
      " 18   19   20   21   22   23   \u001b[34m24\u001b[00m  \t 22   23   24   25   26   27   \u001b[34m28\u001b[00m  \t 20   21   22   23   24   25   \u001b[34m26\u001b[00m  \n",
      " 25   26   27   28   29   30   \u001b[34m31\u001b[00m  \t 29   30                         \t 27   28   29   30   31          \n",
      "\n"
     ]
    }
   ],
   "source": [
    "calendar_year(2020)"
   ]
  },
  {
   "cell_type": "code",
   "execution_count": null,
   "id": "b1b6a23b",
   "metadata": {},
   "outputs": [],
   "source": []
  },
  {
   "cell_type": "code",
   "execution_count": null,
   "id": "c9aa614e",
   "metadata": {},
   "outputs": [],
   "source": []
  }
 ],
 "metadata": {
  "kernelspec": {
   "display_name": "Python 3 (ipykernel)",
   "language": "python",
   "name": "python3"
  },
  "language_info": {
   "codemirror_mode": {
    "name": "ipython",
    "version": 3
   },
   "file_extension": ".py",
   "mimetype": "text/x-python",
   "name": "python",
   "nbconvert_exporter": "python",
   "pygments_lexer": "ipython3",
   "version": "3.9.7"
  }
 },
 "nbformat": 4,
 "nbformat_minor": 5
}
