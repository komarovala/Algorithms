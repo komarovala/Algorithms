{
 "cells": [
  {
   "cell_type": "code",
   "execution_count": 13,
   "id": "6dcccccb",
   "metadata": {},
   "outputs": [],
   "source": [
    "n=[1,7,7,9,1,0]"
   ]
  },
  {
   "cell_type": "code",
   "execution_count": 37,
   "id": "9e19d498",
   "metadata": {},
   "outputs": [],
   "source": [
    "#max число идущих подряд элементов\n"
   ]
  },
  {
   "cell_type": "code",
   "execution_count": 1,
   "id": "1586431d",
   "metadata": {},
   "outputs": [],
   "source": [
    " def f(seq):\n",
    "    prev = curn = maxn = 0\n",
    "    for e in seq:\n",
    "        if e == prev:\n",
    "            curn += 1\n",
    "        else:\n",
    "            if curn > maxn:\n",
    "                maxn = curn\n",
    "                curn = 1\n",
    "        prev = e\n",
    "    return maxn"
   ]
  },
  {
   "cell_type": "code",
   "execution_count": 2,
   "id": "c3840255",
   "metadata": {},
   "outputs": [
    {
     "data": {
      "text/plain": [
       "3"
      ]
     },
     "execution_count": 2,
     "metadata": {},
     "output_type": "execute_result"
    }
   ],
   "source": [
    "f([1, 1, 2, 2, 2, 3, 3, 0])"
   ]
  },
  {
   "cell_type": "code",
   "execution_count": 7,
   "id": "508a4787",
   "metadata": {},
   "outputs": [],
   "source": [
    "#palindrome\n",
    "s='ma m'\n",
    "def palindrome(s):\n",
    "    i=0\n",
    "    j= len(s)-1\n",
    "\n",
    "\n",
    "    while i<j:\n",
    "        if s[i]!=s[j]:\n",
    "            return \"no\"\n",
    "        else:\n",
    "            i+=1\n",
    "            j-=1\n",
    "    else:\n",
    "        return \"yes\""
   ]
  },
  {
   "cell_type": "code",
   "execution_count": 8,
   "id": "0ac54d6c",
   "metadata": {},
   "outputs": [
    {
     "data": {
      "text/plain": [
       "'no'"
      ]
     },
     "execution_count": 8,
     "metadata": {},
     "output_type": "execute_result"
    }
   ],
   "source": [
    "palindrome(s)"
   ]
  },
  {
   "cell_type": "code",
   "execution_count": 9,
   "id": "901f8fc5",
   "metadata": {},
   "outputs": [],
   "source": [
    "#следующее четное\n",
    "def next_even(n):\n",
    "    even=(n//2+1)*2\n",
    "    return even"
   ]
  },
  {
   "cell_type": "code",
   "execution_count": 10,
   "id": "80b19e5d",
   "metadata": {},
   "outputs": [
    {
     "data": {
      "text/plain": [
       "6"
      ]
     },
     "execution_count": 10,
     "metadata": {},
     "output_type": "execute_result"
    }
   ],
   "source": [
    "next_even(4)"
   ]
  }
 ],
 "metadata": {
  "kernelspec": {
   "display_name": "python3.7-default",
   "language": "python",
   "name": "py37-default"
  },
  "language_info": {
   "codemirror_mode": {
    "name": "ipython",
    "version": 3
   },
   "file_extension": ".py",
   "mimetype": "text/x-python",
   "name": "python",
   "nbconvert_exporter": "python",
   "pygments_lexer": "ipython3",
   "version": "3.7.2"
  }
 },
 "nbformat": 4,
 "nbformat_minor": 5
}
