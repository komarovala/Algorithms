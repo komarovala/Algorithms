{
 "cells": [
  {
   "cell_type": "markdown",
   "id": "dc5ac5e4",
   "metadata": {},
   "source": [
    "### Максимум в массиве"
   ]
  },
  {
   "cell_type": "code",
   "execution_count": 1,
   "id": "b86c16e9",
   "metadata": {},
   "outputs": [],
   "source": [
    "N=[4, 6, 2, 5, 3, 1]"
   ]
  },
  {
   "cell_type": "code",
   "execution_count": 2,
   "id": "f26c9e7f",
   "metadata": {},
   "outputs": [
    {
     "data": {
      "text/plain": [
       "6"
      ]
     },
     "execution_count": 2,
     "metadata": {},
     "output_type": "execute_result"
    }
   ],
   "source": [
    "max(N)"
   ]
  },
  {
   "cell_type": "markdown",
   "id": "c7129b31",
   "metadata": {},
   "source": [
    "### Матрица симметрична"
   ]
  },
  {
   "cell_type": "code",
   "execution_count": null,
   "id": "2bea0584",
   "metadata": {},
   "outputs": [],
   "source": [
    "matrix = [[1,2], [2,1]]"
   ]
  },
  {
   "cell_type": "code",
   "execution_count": null,
   "id": "d5a8899f",
   "metadata": {},
   "outputs": [],
   "source": [
    "1  2  3  5\n",
    "*  3  4  6\n",
    "*  *  6  1\n",
    "*  *  *  5"
   ]
  },
  {
   "cell_type": "code",
   "execution_count": 11,
   "id": "8fc0a9f9",
   "metadata": {},
   "outputs": [],
   "source": [
    "def matrix_nums(matrix):\n",
    "    for i in range(len(matrix)):\n",
    "        for j in range(i):\n",
    "            print(matrix[i][j],matrix[j][i])\n",
    "            if matrix[i][j]!=matrix[j][i]:\n",
    "                return 'no'\n",
    "    return 'yes'"
   ]
  },
  {
   "cell_type": "code",
   "execution_count": 12,
   "id": "bc64cd43",
   "metadata": {},
   "outputs": [
    {
     "name": "stdout",
     "output_type": "stream",
     "text": [
      "2 2\n"
     ]
    },
    {
     "data": {
      "text/plain": [
       "'yes'"
      ]
     },
     "execution_count": 12,
     "metadata": {},
     "output_type": "execute_result"
    }
   ],
   "source": [
    "matrix_nums(matrix)"
   ]
  },
  {
   "cell_type": "markdown",
   "id": "89e7435a",
   "metadata": {},
   "source": [
    "### Максимум в матрице"
   ]
  },
  {
   "cell_type": "code",
   "execution_count": null,
   "id": "23d11069",
   "metadata": {},
   "outputs": [],
   "source": [
    "\n",
    "def matrix_nums(matrix):\n",
    "    max_num = 0\n",
    "    i=0\n",
    "    j=0\n",
    "    for i in range(m):\n",
    "        for j in range(n):\n",
    "            if matrix[i][j] > max_num:\n",
    "                max_num = matrix[i][j]\n",
    "    return max_num, i, j"
   ]
  },
  {
   "cell_type": "code",
   "execution_count": 44,
   "id": "a86cf7da",
   "metadata": {},
   "outputs": [],
   "source": [
    "def matrix_nums(matrix):\n",
    "    max_num = None\n",
    "    max_i = 0\n",
    "    max_j = 0\n",
    "    \n",
    "    m = len(matrix)\n",
    "    n = len(matrix[0])\n",
    "    for i in range(m):\n",
    "        for j in range(n):\n",
    "            if (max_num is None) or (matrix[i][j] >= max_num):\n",
    "                max_num = matrix[i][j]\n",
    "                max_i = i\n",
    "                max_j = j\n",
    "    return max_num, max_i, max_j"
   ]
  },
  {
   "cell_type": "code",
   "execution_count": 8,
   "id": "41ce9f96",
   "metadata": {},
   "outputs": [],
   "source": [
    "matrix = [[1,2], [2,1]]"
   ]
  },
  {
   "cell_type": "code",
   "execution_count": 46,
   "id": "e83c0e4f",
   "metadata": {},
   "outputs": [
    {
     "data": {
      "text/plain": [
       "(4, 3, 3)"
      ]
     },
     "execution_count": 46,
     "metadata": {},
     "output_type": "execute_result"
    }
   ],
   "source": [
    "matrix_nums(matrix)"
   ]
  },
  {
   "cell_type": "code",
   "execution_count": 58,
   "id": "52f7e2ad",
   "metadata": {},
   "outputs": [],
   "source": [
    "##test\n",
    "import numpy as np\n",
    "for i in range(1,10):\n",
    "    matrix=np.random.randint(10, size=(i, i))\n",
    "    num = matrix_nums(matrix)[0]\n",
    "    mat_flattened = matrix.flatten()\n",
    "    assert num==max(mat_flattened), num"
   ]
  },
  {
   "cell_type": "markdown",
   "id": "5829be7b",
   "metadata": {},
   "source": [
    "### Строки в книге"
   ]
  },
  {
   "cell_type": "code",
   "execution_count": 42,
   "id": "b1aeea15",
   "metadata": {},
   "outputs": [],
   "source": [
    "K = int(input())\n",
    "N = int(input())\n",
    "\n",
    "def lines_and_pages(K,N):\n",
    "    n = (N//K)+1   #номер страницы\n",
    "    p = (N-1)%K + 1  #номер строки на странице\n",
    "    \n",
    "    return f\"{n} {p}\"\n",
    "\n",
    "result = lines_and_pages(K,N)\n",
    "print (result)"
   ]
  },
  {
   "cell_type": "code",
   "execution_count": 43,
   "id": "4f294b4f",
   "metadata": {},
   "outputs": [
    {
     "data": {
      "text/plain": [
       "(1, 1)"
      ]
     },
     "execution_count": 43,
     "metadata": {},
     "output_type": "execute_result"
    }
   ],
   "source": [
    "lines_and_pages(50, 1)"
   ]
  },
  {
   "cell_type": "markdown",
   "id": "607f5449",
   "metadata": {},
   "source": [
    "### Количество учащихся"
   ]
  },
  {
   "cell_type": "code",
   "execution_count": 45,
   "id": "7022ff00",
   "metadata": {},
   "outputs": [],
   "source": [
    "from math import *"
   ]
  },
  {
   "cell_type": "code",
   "execution_count": 65,
   "id": "861717eb",
   "metadata": {},
   "outputs": [],
   "source": [
    "def cnt_desks(c1, c2, c3):\n",
    "    cls1 = c1//2 + c1%2\n",
    "    cls2 = c2//2 + c2%2\n",
    "    cls3 = c3//2 + c3%2\n",
    "    \n",
    "    return cls1 + cls2 + cls3"
   ]
  },
  {
   "cell_type": "code",
   "execution_count": null,
   "id": "1cdde349",
   "metadata": {},
   "outputs": [],
   "source": []
  },
  {
   "cell_type": "code",
   "execution_count": 72,
   "id": "69df0791",
   "metadata": {},
   "outputs": [
    {
     "data": {
      "text/plain": [
       "32"
      ]
     },
     "execution_count": 72,
     "metadata": {},
     "output_type": "execute_result"
    }
   ],
   "source": [
    "cnt_desks(20,21,22)"
   ]
  },
  {
   "cell_type": "code",
   "execution_count": 78,
   "id": "f2b4b000",
   "metadata": {},
   "outputs": [],
   "source": [
    "##test\n",
    "import numpy as np\n",
    "import random\n",
    "from math import *\n",
    "for i in range(0,10):\n",
    "    cls1 = random.randint(1,27)\n",
    "    cls2 = random.randint(1,27)\n",
    "    cls3 = random.randint(1,27)\n",
    "\n",
    "    diff = ceil(cls1/2)+ceil(cls2/2)+ceil(cls3/2)\n",
    "    \n",
    "    assert cnt_desks(cls1, cls2, cls3) == diff, (cls1,cls2,cls3)"
   ]
  },
  {
   "cell_type": "markdown",
   "id": "01cfa210",
   "metadata": {},
   "source": [
    "### Циклически вправо"
   ]
  },
  {
   "cell_type": "code",
   "execution_count": 35,
   "id": "663dd230",
   "metadata": {},
   "outputs": [],
   "source": [
    "from random import randrange\n",
    "N=5\n",
    "mass = [randrange(10) for i in range(N)]"
   ]
  },
  {
   "cell_type": "code",
   "execution_count": 38,
   "id": "cb42b15c",
   "metadata": {},
   "outputs": [],
   "source": [
    "def move_right(N,mass):\n",
    "    print(mass)\n",
    "    for i in range(1,N):\n",
    "        mass[-i], mass[-i-1] = mass[-i-1], mass[-i]\n",
    "    \n",
    "    return mass"
   ]
  },
  {
   "cell_type": "code",
   "execution_count": 5,
   "id": "936e5c11",
   "metadata": {},
   "outputs": [
    {
     "name": "stdout",
     "output_type": "stream",
     "text": [
      "[8, 7, 3, 9, 3]\n"
     ]
    },
    {
     "data": {
      "text/plain": [
       "([8, 7, 3, 9, 3], [3, 8, 7, 3, 9])"
      ]
     },
     "execution_count": 5,
     "metadata": {},
     "output_type": "execute_result"
    }
   ],
   "source": [
    "move_right(N, mass)"
   ]
  },
  {
   "cell_type": "markdown",
   "id": "5ce85da7",
   "metadata": {},
   "source": [
    "### Ваня наблюдает за лягушкой"
   ]
  },
  {
   "cell_type": "code",
   "execution_count": 33,
   "id": "b47c9f9c",
   "metadata": {},
   "outputs": [
    {
     "name": "stdout",
     "output_type": "stream",
     "text": [
      "7\n",
      "8\n"
     ]
    }
   ],
   "source": [
    "K=int(input())\n",
    "T=int(input())"
   ]
  },
  {
   "cell_type": "code",
   "execution_count": 32,
   "id": "d6ee1883",
   "metadata": {},
   "outputs": [],
   "source": [
    "def frog_looking(K,T):\n",
    "    if K>=T:\n",
    "        x = T\n",
    "    else:\n",
    "         x = (2*K)%T\n",
    "    return x"
   ]
  },
  {
   "cell_type": "code",
   "execution_count": 34,
   "id": "85500e4e",
   "metadata": {},
   "outputs": [
    {
     "data": {
      "text/plain": [
       "6"
      ]
     },
     "execution_count": 34,
     "metadata": {},
     "output_type": "execute_result"
    }
   ],
   "source": [
    "frog_looking(K,T)"
   ]
  },
  {
   "cell_type": "code",
   "execution_count": null,
   "id": "231a9d0d",
   "metadata": {},
   "outputs": [],
   "source": []
  },
  {
   "cell_type": "markdown",
   "id": "aaa37112",
   "metadata": {},
   "source": [
    "### Треугольник Паскаля"
   ]
  },
  {
   "cell_type": "code",
   "execution_count": 97,
   "id": "dded8ea5",
   "metadata": {},
   "outputs": [
    {
     "name": "stdout",
     "output_type": "stream",
     "text": [
      "3\n",
      "3\n"
     ]
    }
   ],
   "source": [
    "N = int(input())\n",
    "M = int(input())\n",
    "P = np.zeros((N,M))"
   ]
  },
  {
   "cell_type": "code",
   "execution_count": 98,
   "id": "ced1858b",
   "metadata": {},
   "outputs": [],
   "source": [
    "for i in range(N):\n",
    "    for j in range(M):\n",
    "        P[i][0] = 1\n",
    "        P[0][j] = 1;\n",
    "        P[i][j] = P[i - 1][j] + P[i][j - 1]"
   ]
  },
  {
   "cell_type": "code",
   "execution_count": 100,
   "id": "1565e282",
   "metadata": {},
   "outputs": [
    {
     "name": "stdout",
     "output_type": "stream",
     "text": [
      "[[1. 1. 1.]\n",
      " [1. 2. 3.]\n",
      " [1. 3. 6.]]\n"
     ]
    }
   ],
   "source": [
    "print(P)"
   ]
  },
  {
   "cell_type": "code",
   "execution_count": 99,
   "id": "811ba79d",
   "metadata": {},
   "outputs": [
    {
     "data": {
      "text/plain": [
       "array([[1., 1., 1.],\n",
       "       [1., 2., 3.],\n",
       "       [1., 3., 6.]])"
      ]
     },
     "execution_count": 99,
     "metadata": {},
     "output_type": "execute_result"
    }
   ],
   "source": [
    "P"
   ]
  },
  {
   "cell_type": "code",
   "execution_count": null,
   "id": "92350acb",
   "metadata": {},
   "outputs": [],
   "source": [
    "row = [sum(x) for x in zip([0]+row, row+[0])]"
   ]
  }
 ],
 "metadata": {
  "kernelspec": {
   "display_name": "Python 3 (ipykernel)",
   "language": "python",
   "name": "python3"
  },
  "language_info": {
   "codemirror_mode": {
    "name": "ipython",
    "version": 3
   },
   "file_extension": ".py",
   "mimetype": "text/x-python",
   "name": "python",
   "nbconvert_exporter": "python",
   "pygments_lexer": "ipython3",
   "version": "3.9.7"
  }
 },
 "nbformat": 4,
 "nbformat_minor": 5
}
