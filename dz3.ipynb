{
 "cells": [
  {
   "cell_type": "code",
   "execution_count": 9,
   "id": "9f957ab2",
   "metadata": {},
   "outputs": [
    {
     "name": "stdout",
     "output_type": "stream",
     "text": [
      "5\n",
      "10\n"
     ]
    }
   ],
   "source": [
    "K=int(input())\n",
    "T=int(input())"
   ]
  },
  {
   "cell_type": "code",
   "execution_count": null,
   "id": "e3f551f4",
   "metadata": {},
   "outputs": [],
   "source": [
    "##Было\n",
    "def frog_looking(K,T):\n",
    "    t = T % (2 * K)\n",
    "#     if K>=t:\n",
    "#         x = t\n",
    "#     else:\n",
    "#         x = 2*K - t\n",
    "    x = (1-t//(K+1))*t + (t//(K+1)) * (2*K-t)\n",
    "    return x\n"
   ]
  },
  {
   "cell_type": "code",
   "execution_count": 47,
   "id": "c9520e75",
   "metadata": {},
   "outputs": [],
   "source": [
    "def frog_looking(K,T):\n",
    "    t = T % (2 * K)\n",
    "#     if K>=t:\n",
    "#         x = t\n",
    "#     else:\n",
    "#         x = 2*K - t\n",
    "    x = (1-(t//K))*t + (t//K) * (2*K-t)\n",
    "    return x"
   ]
  },
  {
   "cell_type": "code",
   "execution_count": 5,
   "id": "3c50beec",
   "metadata": {},
   "outputs": [],
   "source": [
    "t= T % (2 * K)"
   ]
  },
  {
   "cell_type": "code",
   "execution_count": 48,
   "id": "e444243d",
   "metadata": {},
   "outputs": [],
   "source": [
    "K=10\n",
    "T=24\n",
    "\n",
    "t = T % (2 * K)"
   ]
  },
  {
   "cell_type": "code",
   "execution_count": 49,
   "id": "d10ea2ae",
   "metadata": {},
   "outputs": [
    {
     "data": {
      "text/plain": [
       "4"
      ]
     },
     "execution_count": 49,
     "metadata": {},
     "output_type": "execute_result"
    }
   ],
   "source": [
    "frog_looking(K,T)"
   ]
  },
  {
   "cell_type": "markdown",
   "id": "34e34e05",
   "metadata": {},
   "source": [
    "### Шоколадки"
   ]
  },
  {
   "cell_type": "code",
   "execution_count": 63,
   "id": "4e16b893",
   "metadata": {},
   "outputs": [],
   "source": [
    "import random"
   ]
  },
  {
   "cell_type": "code",
   "execution_count": null,
   "id": "88096cae",
   "metadata": {},
   "outputs": [],
   "source": [
    "n = int(input())\n",
    "m = int(input())\n",
    "k = int(input())\n",
    "\n",
    "if (k<=(m*n) and ((k % m == 0) or (k % n == 0))):\n",
    "    print('YES')\n",
    "else:\n",
    "    print('NO')"
   ]
  },
  {
   "cell_type": "code",
   "execution_count": null,
   "id": "ea5e3ebb",
   "metadata": {},
   "outputs": [],
   "source": [
    "##тестики"
   ]
  },
  {
   "cell_type": "code",
   "execution_count": 67,
   "id": "09092239",
   "metadata": {},
   "outputs": [],
   "source": [
    "m = 2\n",
    "n = 2"
   ]
  },
  {
   "cell_type": "code",
   "execution_count": null,
   "id": "b51c0986",
   "metadata": {},
   "outputs": [],
   "source": [
    "1 1 1 1\n",
    "1 1 1 1\n",
    "1 1 1 1"
   ]
  },
  {
   "cell_type": "code",
   "execution_count": 11,
   "id": "7f21194a",
   "metadata": {},
   "outputs": [
    {
     "data": {
      "text/plain": [
       "1"
      ]
     },
     "execution_count": 11,
     "metadata": {},
     "output_type": "execute_result"
    }
   ],
   "source": [
    "3%2"
   ]
  },
  {
   "cell_type": "code",
   "execution_count": 16,
   "id": "cda40562",
   "metadata": {},
   "outputs": [
    {
     "name": "stdout",
     "output_type": "stream",
     "text": [
      "1 NO\n",
      "2 NO\n",
      "3 YES\n",
      "4 YES\n",
      "5 NO\n",
      "6 YES\n",
      "7 NO\n",
      "8 YES\n",
      "9 YES\n",
      "10 NO\n",
      "11 NO\n",
      "12 YES\n",
      "13 NO\n",
      "14 NO\n",
      "15 NO\n",
      "16 NO\n",
      "17 NO\n",
      "18 NO\n",
      "19 NO\n"
     ]
    }
   ],
   "source": [
    "n = 3\n",
    "m = 4\n",
    "\n",
    "for i in range(1,20):\n",
    "    k=i\n",
    "    if (k<=(m*n) and ((k % m == 0) or (k % n == 0))):\n",
    "        print(k, 'YES')\n",
    "    else:\n",
    "        print(k, 'NO')"
   ]
  },
  {
   "cell_type": "markdown",
   "id": "70246cb5",
   "metadata": {},
   "source": [
    "### Мороженое"
   ]
  },
  {
   "cell_type": "code",
   "execution_count": 18,
   "id": "e8bb8c1e",
   "metadata": {},
   "outputs": [
    {
     "name": "stdout",
     "output_type": "stream",
     "text": [
      "16\n",
      "YES\n"
     ]
    }
   ],
   "source": [
    "k = int(input())\n",
    "\n",
    "if k!=0 and ((k % 5 == 0) or (k % 3==0) or ((k % 3 == 0) and (k % 5 == 0)) or (k % 8 == 0) ):\n",
    "    print('YES')\n",
    "else:\n",
    "    print('NO')"
   ]
  },
  {
   "cell_type": "code",
   "execution_count": 85,
   "id": "777f7cc1",
   "metadata": {},
   "outputs": [],
   "source": [
    "k=0"
   ]
  },
  {
   "cell_type": "code",
   "execution_count": null,
   "id": "6491e214",
   "metadata": {},
   "outputs": [],
   "source": [
    "3n+5m=k"
   ]
  },
  {
   "cell_type": "code",
   "execution_count": 27,
   "id": "76450812",
   "metadata": {},
   "outputs": [
    {
     "name": "stdout",
     "output_type": "stream",
     "text": [
      "1 NO\n",
      "2 NO\n",
      "3 YES\n",
      "4 NO\n",
      "5 YES\n",
      "6 YES\n",
      "7 NO\n",
      "8 YES\n",
      "9 YES\n",
      "10 YES\n",
      "11 NO\n",
      "12 YES\n",
      "13 NO\n",
      "14 NO\n",
      "15 YES\n",
      "16 YES\n",
      "17 NO\n",
      "18 YES\n",
      "19 NO\n",
      "20 YES\n",
      "21 YES\n",
      "22 NO\n",
      "23 NO\n",
      "24 YES\n",
      "25 YES\n",
      "26 NO\n",
      "27 YES\n",
      "28 NO\n",
      "29 NO\n",
      "30 YES\n"
     ]
    }
   ],
   "source": [
    "for i in range(1,31):\n",
    "    k=i\n",
    "    if k!=0 and ((k % 5 == 0) or (k % 3==0) or ((k % 3 == 0) and (k % 5 == 0)) or (k % 8 == 0) ):\n",
    "        print(k, 'YES')\n",
    "    else:\n",
    "        print(k, 'NO')"
   ]
  },
  {
   "cell_type": "code",
   "execution_count": 32,
   "id": "d80d7c15",
   "metadata": {},
   "outputs": [
    {
     "name": "stdout",
     "output_type": "stream",
     "text": [
      "1 NO\n",
      "2 NO\n",
      "3 YES\n",
      "4 NO\n",
      "5 YES\n",
      "6 YES\n",
      "7 NO\n",
      "8 YES\n",
      "9 YES\n",
      "10 YES\n",
      "11 NO\n",
      "12 YES\n",
      "13 YES\n",
      "14 NO\n",
      "15 YES\n",
      "16 NO\n",
      "17 NO\n",
      "18 YES\n",
      "19 NO\n",
      "20 YES\n",
      "21 YES\n",
      "22 NO\n",
      "23 YES\n",
      "24 YES\n",
      "25 YES\n",
      "26 NO\n",
      "27 YES\n",
      "28 YES\n",
      "29 NO\n",
      "30 YES\n"
     ]
    }
   ],
   "source": [
    "for i in range(1,31):\n",
    "    k=i\n",
    "    if k!=0 and ((k % 5 == 0) or (k % 3==0) or (k  % 5 % 3 ==0 )):\n",
    "        print(k, 'YES')\n",
    "    else:\n",
    "        print(k, 'NO')"
   ]
  },
  {
   "cell_type": "code",
   "execution_count": 29,
   "id": "24663347",
   "metadata": {},
   "outputs": [
    {
     "data": {
      "text/plain": [
       "True"
      ]
     },
     "execution_count": 29,
     "metadata": {},
     "output_type": "execute_result"
    }
   ],
   "source": [
    "30 % 5 % 3 == 0"
   ]
  },
  {
   "cell_type": "code",
   "execution_count": 100,
   "id": "ad7250b5",
   "metadata": {},
   "outputs": [
    {
     "data": {
      "text/plain": [
       "2"
      ]
     },
     "execution_count": 100,
     "metadata": {},
     "output_type": "execute_result"
    }
   ],
   "source": [
    "12%5"
   ]
  },
  {
   "cell_type": "code",
   "execution_count": 101,
   "id": "03131f0a",
   "metadata": {},
   "outputs": [
    {
     "data": {
      "text/plain": [
       "0"
      ]
     },
     "execution_count": 101,
     "metadata": {},
     "output_type": "execute_result"
    }
   ],
   "source": [
    "12%3"
   ]
  },
  {
   "cell_type": "code",
   "execution_count": 96,
   "id": "abdb4eb9",
   "metadata": {},
   "outputs": [
    {
     "data": {
      "text/plain": [
       "3"
      ]
     },
     "execution_count": 96,
     "metadata": {},
     "output_type": "execute_result"
    }
   ],
   "source": [
    "13 % 5"
   ]
  },
  {
   "cell_type": "markdown",
   "id": "7dab91bb",
   "metadata": {},
   "source": [
    "### Коровы "
   ]
  },
  {
   "cell_type": "code",
   "execution_count": null,
   "id": "aa007a3a",
   "metadata": {},
   "outputs": [],
   "source": [
    "n = int(input())\n",
    "if n==1:\n",
    "    print(\"1 korova\")\n",
    "elif n>=2 and n<=4:\n",
    "    print(f\"{n} korovy\")\n",
    "else:\n",
    "    print(f\"{n} korov\")"
   ]
  },
  {
   "cell_type": "code",
   "execution_count": 34,
   "id": "28a2bf7b",
   "metadata": {},
   "outputs": [
    {
     "name": "stdout",
     "output_type": "stream",
     "text": [
      "1 korova\n",
      "2 korovy\n",
      "3 korovy\n",
      "4 korovy\n",
      "5 korov\n",
      "6 korov\n",
      "7 korov\n",
      "8 korov\n",
      "9 korov\n",
      "10 korov\n",
      "11 korov\n",
      "12 korov\n",
      "13 korov\n",
      "14 korov\n",
      "15 korov\n",
      "16 korov\n",
      "17 korov\n",
      "18 korov\n",
      "19 korov\n"
     ]
    }
   ],
   "source": [
    "for i in range(1,20):\n",
    "    n=i\n",
    "    if n==1:\n",
    "        print(\"1 korova\")\n",
    "    elif n>=2 and n<=4:\n",
    "        print(f\"{n} korovy\")\n",
    "    else:\n",
    "        print(f\"{n} korov\")"
   ]
  }
 ],
 "metadata": {
  "kernelspec": {
   "display_name": "Python 3 (ipykernel)",
   "language": "python",
   "name": "python3"
  },
  "language_info": {
   "codemirror_mode": {
    "name": "ipython",
    "version": 3
   },
   "file_extension": ".py",
   "mimetype": "text/x-python",
   "name": "python",
   "nbconvert_exporter": "python",
   "pygments_lexer": "ipython3",
   "version": "3.9.7"
  }
 },
 "nbformat": 4,
 "nbformat_minor": 5
}
