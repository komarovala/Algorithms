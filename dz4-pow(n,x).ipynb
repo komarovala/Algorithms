{
 "cells": [
  {
   "cell_type": "markdown",
   "id": "bfc56a9f",
   "metadata": {},
   "source": [
    "### Треугольник Паскаля"
   ]
  },
  {
   "cell_type": "markdown",
   "id": "e38cdab8",
   "metadata": {},
   "source": [
    "#### Вариант1"
   ]
  },
  {
   "cell_type": "code",
   "execution_count": 2,
   "id": "e3942a40",
   "metadata": {},
   "outputs": [
    {
     "name": "stdout",
     "output_type": "stream",
     "text": [
      "[1]\n",
      "[1, 1]\n",
      "[1, 1, 1]\n",
      "[1, 1, 1, 1]\n",
      "[1, 1, 1, 1, 1]\n"
     ]
    }
   ],
   "source": [
    "n=5\n",
    "P=[]\n",
    "for i in range(n):\n",
    "    row=[1]*(i+1)\n",
    "    P.append(row)\n",
    "    print(row)"
   ]
  },
  {
   "cell_type": "code",
   "execution_count": 11,
   "id": "339bbd1c",
   "metadata": {},
   "outputs": [],
   "source": [
    "P=[]"
   ]
  },
  {
   "cell_type": "code",
   "execution_count": 8,
   "id": "250ae011",
   "metadata": {},
   "outputs": [
    {
     "data": {
      "text/plain": [
       "[]"
      ]
     },
     "execution_count": 8,
     "metadata": {},
     "output_type": "execute_result"
    }
   ],
   "source": [
    "P"
   ]
  },
  {
   "cell_type": "code",
   "execution_count": 12,
   "id": "884b6acd",
   "metadata": {},
   "outputs": [
    {
     "name": "stdout",
     "output_type": "stream",
     "text": [
      "0 [1]\n",
      "1 [1, 1]\n",
      "2 [1, 1, 1]\n",
      "3 [1, 1, 1, 1]\n",
      "4 [1, 1, 1, 1, 1]\n",
      "5 [1, 1, 1, 1, 1, 1]\n"
     ]
    }
   ],
   "source": [
    "for i in range(n+1) :\n",
    "    row=[1]*(i+1)\n",
    "    print(i,row)\n",
    "    for j in range(i+1):\n",
    "        if j!=0 and j != i:\n",
    "            row[j] = P[i-1][j]+P[i-1][j]\n",
    "    P.append(row)\n"
   ]
  },
  {
   "cell_type": "code",
   "execution_count": 13,
   "id": "a211d22a",
   "metadata": {},
   "outputs": [
    {
     "data": {
      "text/plain": [
       "[[1], [1, 1], [1, 2, 1], [1, 4, 2, 1], [1, 8, 4, 2, 1], [1, 16, 8, 4, 2, 1]]"
      ]
     },
     "execution_count": 13,
     "metadata": {},
     "output_type": "execute_result"
    }
   ],
   "source": [
    "P"
   ]
  },
  {
   "cell_type": "markdown",
   "id": "398a9aca",
   "metadata": {},
   "source": [
    "#### Вариант2"
   ]
  },
  {
   "cell_type": "code",
   "execution_count": 15,
   "id": "565db387",
   "metadata": {},
   "outputs": [],
   "source": [
    "N = 3"
   ]
  },
  {
   "cell_type": "code",
   "execution_count": 22,
   "id": "cb2f9cb5",
   "metadata": {},
   "outputs": [],
   "source": [
    "p=[]\n",
    "\n",
    "for i in range(5):\n",
    "    p.append([1]*(i+1))\n",
    "    for j in range(1,i):\n",
    "        p[i][j] = p[i-1][j] + p[i-1][j-1]"
   ]
  },
  {
   "cell_type": "code",
   "execution_count": 23,
   "id": "910ef075",
   "metadata": {},
   "outputs": [
    {
     "data": {
      "text/plain": [
       "[[1], [1, 1], [1, 2, 1], [1, 3, 3, 1], [1, 4, 6, 4, 1]]"
      ]
     },
     "execution_count": 23,
     "metadata": {},
     "output_type": "execute_result"
    }
   ],
   "source": [
    "p"
   ]
  },
  {
   "cell_type": "code",
   "execution_count": 16,
   "id": "a69a0836",
   "metadata": {},
   "outputs": [
    {
     "data": {
      "text/plain": [
       "[[1, 1, 1], [1, 1, 1], [1, 1, 1], [1, 1, 1], [1, 1, 1]]"
      ]
     },
     "execution_count": 16,
     "metadata": {},
     "output_type": "execute_result"
    }
   ],
   "source": [
    "P = [[1 for i in range(N)] for j in range(i)]\n",
    "\n",
    "P"
   ]
  },
  {
   "cell_type": "markdown",
   "id": "dd61c3a5",
   "metadata": {},
   "source": [
    "#### Вариант3"
   ]
  },
  {
   "cell_type": "code",
   "execution_count": null,
   "id": "72b744b1",
   "metadata": {},
   "outputs": [],
   "source": []
  },
  {
   "cell_type": "code",
   "execution_count": null,
   "id": "3e01f33c",
   "metadata": {},
   "outputs": [],
   "source": []
  },
  {
   "cell_type": "code",
   "execution_count": null,
   "id": "3816393f",
   "metadata": {},
   "outputs": [],
   "source": []
  },
  {
   "cell_type": "code",
   "execution_count": null,
   "id": "51e3d2d0",
   "metadata": {},
   "outputs": [],
   "source": []
  },
  {
   "cell_type": "code",
   "execution_count": null,
   "id": "1ffc535e",
   "metadata": {},
   "outputs": [],
   "source": []
  },
  {
   "cell_type": "markdown",
   "id": "19d4d630",
   "metadata": {},
   "source": [
    "### Pow(x, n)"
   ]
  },
  {
   "cell_type": "code",
   "execution_count": 61,
   "id": "1b919d0e",
   "metadata": {},
   "outputs": [],
   "source": [
    "x = 2\n",
    "n = 10"
   ]
  },
  {
   "cell_type": "code",
   "execution_count": 23,
   "id": "a3f0d094",
   "metadata": {},
   "outputs": [],
   "source": [
    "x = 2.10000\n",
    "n = 3"
   ]
  },
  {
   "cell_type": "code",
   "execution_count": 1,
   "id": "4521f388",
   "metadata": {},
   "outputs": [],
   "source": [
    "x = 2.00000\n",
    "n = -2\n"
   ]
  },
  {
   "cell_type": "code",
   "execution_count": 24,
   "id": "af997cdd",
   "metadata": {},
   "outputs": [],
   "source": [
    "num=1\n",
    "for i in range(abs(n)):\n",
    "    if n>0:\n",
    "        num *= x\n",
    "    else:\n",
    "        num *= (1/x)"
   ]
  },
  {
   "cell_type": "code",
   "execution_count": 3,
   "id": "8dc024c4",
   "metadata": {},
   "outputs": [
    {
     "name": "stdout",
     "output_type": "stream",
     "text": [
      "10\n"
     ]
    },
    {
     "data": {
      "text/plain": [
       "16"
      ]
     },
     "execution_count": 3,
     "metadata": {},
     "output_type": "execute_result"
    }
   ],
   "source": [
    "x = 2\n",
    "n = 10\n",
    "\n",
    "num=1\n",
    "p= abs(n)\n",
    "\n",
    " \n",
    "while p>1:\n",
    "    if p % 2 == 0:\n",
    "            p = p // 2\n",
    "            num *= x\n",
    "    else:\n",
    "            num *= x\n",
    "            p -= 1\n",
    "\n",
    "total = num if n>0 else 1/num\n",
    "total"
   ]
  },
  {
   "cell_type": "code",
   "execution_count": null,
   "id": "7a7dd1c9",
   "metadata": {},
   "outputs": [],
   "source": []
  },
  {
   "cell_type": "code",
   "execution_count": null,
   "id": "aa2d7ef9",
   "metadata": {},
   "outputs": [],
   "source": []
  }
 ],
 "metadata": {
  "kernelspec": {
   "display_name": "Python 3 (ipykernel)",
   "language": "python",
   "name": "python3"
  },
  "language_info": {
   "codemirror_mode": {
    "name": "ipython",
    "version": 3
   },
   "file_extension": ".py",
   "mimetype": "text/x-python",
   "name": "python",
   "nbconvert_exporter": "python",
   "pygments_lexer": "ipython3",
   "version": "3.9.7"
  }
 },
 "nbformat": 4,
 "nbformat_minor": 5
}
